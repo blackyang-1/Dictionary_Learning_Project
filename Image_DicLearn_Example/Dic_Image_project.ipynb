{
 "cells": [
  {
   "cell_type": "markdown",
   "id": "91dee1ab",
   "metadata": {},
   "source": [
    "## Dictionary Leanring for images\n",
    "Input: Image\n",
    "\n",
    "Output: Dictionary atoms, sparse matrix \n",
    "\n",
    "Prepare image dataset for Dictionray Leanring\n",
    "\n",
    "For images, we just need an addtional preprocessing"
   ]
  },
  {
   "cell_type": "markdown",
   "id": "28a86a6d",
   "metadata": {},
   "source": [
    "## Utils\n",
    "1.Preprocess image to a 2D merged large matrix.\n",
    "\n",
    "## Note: we only provide preprocess function, the remaining process is similar to the TEM signal example."
   ]
  },
  {
   "cell_type": "code",
   "execution_count": 3,
   "id": "14e867a1",
   "metadata": {},
   "outputs": [
    {
     "name": "stdout",
     "output_type": "stream",
     "text": [
      "The transfored image matrix shape: (8192, 64)\n"
     ]
    }
   ],
   "source": [
    "import os\n",
    "import torch\n",
    "import numpy as np\n",
    "from PIL import Image\n",
    "from tqdm import tqdm\n",
    "\n",
    "def load_images_from_folder(image_path:str=None, crop_size:tuple=(512, 512), block_size:int=8):\n",
    "    \"\"\"\n",
    "    image_path (str): Image file path, default: None.\n",
    "    crop_size (tuple): Cropping size setting of the image, default: (512,512).\n",
    "    block_size (int): Image block size setting, default: 8.\n",
    "    \"\"\"\n",
    "    assert os.path.isdir(image_path), f\"Error: {image_path}, Images loading failed.\"\n",
    "    \n",
    "    \"\"\"Loading images, e,g. 00001.jpg\"\"\"\n",
    "    images = []\n",
    "    for filename in os.listdir(image_path):\n",
    "        if filename.lower().endswith(\".jpg\"):  #search files matching for .jpg files\n",
    "            file_path = os.path.join(image_path, filename)\n",
    "            try:\n",
    "                image = Image.open(file_path).convert(\"L\").resize(crop_size)\n",
    "                image = np.array(image) / 255.0 \n",
    "                images.append(image)\n",
    "            except Exception as e:\n",
    "                print(f\"Error loading image {filename}: {e}\")\n",
    "                continue\n",
    "    assert len(images) > 0, \"Error: No valid images were loaded.\"\n",
    "    \n",
    "    \"\"\"Merge images\"\"\"\n",
    "    images = np.stack(images, axis=0)\n",
    "\n",
    "    \"\"\"\n",
    "    Divide the image into small block, e.g., (512,512) -> (64,64) x (8,8) blocks -> flatten -> (4096,64) reshape feature matrix\n",
    "    Note: In provided Image_dataset, there are two images, so the final matrix should be: ((4096x2),64)->(8192,64)\n",
    "\n",
    "    \"\"\"\n",
    "    blocks = []\n",
    "    for img in images:\n",
    "        for i in range(0, crop_size[0], block_size):\n",
    "            for j in range(0, crop_size[1], block_size):\n",
    "                block = img[i:i + block_size, j:j + block_size]\n",
    "                blocks.append(block.flatten()) #\n",
    "    blocks = np.stack(blocks)\n",
    "    print(f\"The transfored image matrix shape: {blocks.shape}\")\n",
    "    return torch.tensor(blocks, dtype=torch.float32)\n",
    "\n",
    "#Example\n",
    "image_folder_path = \"Image_dataset\"  #Replace with your own path\n",
    "blocks_tensor = load_images_from_folder(image_folder_path)"
   ]
  }
 ],
 "metadata": {
  "kernelspec": {
   "display_name": "ym666",
   "language": "python",
   "name": "python3"
  },
  "language_info": {
   "codemirror_mode": {
    "name": "ipython",
    "version": 3
   },
   "file_extension": ".py",
   "mimetype": "text/x-python",
   "name": "python",
   "nbconvert_exporter": "python",
   "pygments_lexer": "ipython3",
   "version": "3.8.20"
  }
 },
 "nbformat": 4,
 "nbformat_minor": 5
}
